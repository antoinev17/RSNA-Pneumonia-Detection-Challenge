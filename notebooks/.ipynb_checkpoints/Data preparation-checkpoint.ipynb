{
 "cells": [
  {
   "cell_type": "code",
   "execution_count": 1,
   "metadata": {
    "collapsed": true
   },
   "outputs": [],
   "source": [
    "%matplotlib inline\n",
    "\n",
    "import numpy as np \n",
    "import pandas as pd\n",
    "import matplotlib.pyplot as plt\n",
    "import seaborn as sns\n",
    "import pydicom\n",
    "\n",
    "import gc\n",
    "import warnings\n",
    "warnings.simplefilter(action = 'ignore')"
   ]
  },
  {
   "cell_type": "markdown",
   "metadata": {},
   "source": [
    "#### Origin of data for training\n",
    "We have to consider several sources of data for training\n",
    "* stage_1_detailed_class_info: provides the class for each image id: Lung Opacity (i.e. pneumonia diagnosis), No Lung Opacity / Not Normal, Normal\n",
    "* stage_1_train_labels: the bounding boxes:\n",
    "    - patientId\n",
    "    - x\n",
    "    - y\n",
    "    - width\n",
    "    - height\n",
    "    - Target\n",
    "* the image file themselves in DICOM format, that contains some useful meta-data (from https://www.kaggle.com/aantonova/practical-eda-on-numerical-data)\n",
    "    - age\n",
    "    - sex\n",
    "    - ViewPosition"
   ]
  },
  {
   "cell_type": "code",
   "execution_count": 3,
   "metadata": {},
   "outputs": [
    {
     "name": "stdout",
     "output_type": "stream",
     "text": [
      "<class 'pandas.core.frame.DataFrame'>\n",
      "Int64Index: 28989 entries, 0 to 28988\n",
      "Data columns (total 7 columns):\n",
      "patientId    28989 non-null object\n",
      "class        28989 non-null object\n",
      "x            8964 non-null float64\n",
      "y            8964 non-null float64\n",
      "width        8964 non-null float64\n",
      "height       8964 non-null float64\n",
      "Target       28989 non-null int64\n",
      "dtypes: float64(4), int64(1), object(2)\n",
      "memory usage: 1.8+ MB\n"
     ]
    }
   ],
   "source": [
    "# To get the info from stage_1_detailed_class_info and stage_1_train_labels\n",
    "\n",
    "detailed_class_info = pd.read_csv('../data/stage_1_detailed_class_info.csv')\n",
    "\n",
    "# detailed_class_info (class) presents the same lines as train_labels (boxes) which means some of them are duplicated\n",
    "detailed_class_info = detailed_class_info.drop_duplicates()\n",
    "\n",
    "train_labels = pd.read_csv('../data/stage_1_train_labels.csv')\n",
    "\n",
    "df = pd.merge(left = detailed_class_info, right = train_labels, how = 'left', on = 'patientId')\n",
    "\n",
    "del detailed_class_info, train_labels\n",
    "gc.collect()\n",
    "\n",
    "df.info(null_counts = True)\n"
   ]
  },
  {
   "cell_type": "markdown",
   "metadata": {},
   "source": [
    "#### To retrieve the meta-data from DICOM images (takes several minutes)"
   ]
  },
  {
   "cell_type": "code",
   "execution_count": null,
   "metadata": {
    "collapsed": true
   },
   "outputs": [],
   "source": [
    "dcm_columns = None\n",
    "\n",
    "for n, pid in enumerate(df['patientId'].unique()):\n",
    "    dcm_file = '../data/stage_1_train_images/%s.dcm' % pid\n",
    "    dcm_data = pydicom.read_file(dcm_file)\n",
    "    \n",
    "    if not dcm_columns:\n",
    "        dcm_columns = dcm_data.dir()\n",
    "        dcm_columns.remove('PixelSpacing')\n",
    "        dcm_columns.remove('PixelData')\n",
    "    \n",
    "    for col in dcm_columns:\n",
    "        if not (col in df.columns):\n",
    "            df[col] = np.nan\n",
    "        index = df[df['patientId'] == pid].index\n",
    "        df.loc[index, col] = dcm_data.data_element(col).value\n",
    "    \n",
    "    if n % 1000 == 0:\n",
    "        print(\"Image: \", n)\n",
    "    \n",
    "    del dcm_data\n",
    "    \n",
    "gc.collect()\n",
    "\n",
    "df.head()"
   ]
  },
  {
   "cell_type": "markdown",
   "metadata": {},
   "source": [
    "#### Remove the useless image meta-data"
   ]
  },
  {
   "cell_type": "code",
   "execution_count": null,
   "metadata": {
    "collapsed": true
   },
   "outputs": [],
   "source": [
    "to_drop = df.nunique()\n",
    "to_drop = to_drop[(to_drop <= 1) | (to_drop == to_drop['patientId'])].index\n",
    "to_drop = to_drop.drop('patientId')\n",
    "\n",
    "# Removing all constant features\n",
    "df.drop(to_drop, axis = 1, inplace = True)\n",
    "\n",
    "# Removing the physician name, as this information is always empty\n",
    "df.drop('ReferringPhysicianName', axis = 1, inplace = True)\n",
    "\n",
    "# Removing SeriesDescription which is identical to ViewPosition\n",
    "df.drop('SeriesDescription', axis = 1, inplace = True)\n",
    "\n",
    "# Numerical encoding for PatientSex and ViewPosition\n",
    "df['PatientSex'] = df['PatientSex'].map({'F': 0, 'M': 1})\n",
    "df['ViewPosition'] = df['ViewPosition'].map({'PA': 0, 'AP': 1})\n",
    "df.head()\n",
    "\n",
    "df.head()"
   ]
  },
  {
   "cell_type": "markdown",
   "metadata": {},
   "source": [
    "#### Save the data file"
   ]
  },
  {
   "cell_type": "code",
   "execution_count": null,
   "metadata": {
    "collapsed": true
   },
   "outputs": [],
   "source": [
    "file_name = '../data/prepared_data.csv'\n",
    "df.to_csv(file_name, sep='\\t', encoding='utf-8')"
   ]
  },
  {
   "cell_type": "code",
   "execution_count": null,
   "metadata": {
    "collapsed": true
   },
   "outputs": [],
   "source": []
  }
 ],
 "metadata": {
  "kernelspec": {
   "display_name": "Python [conda env:tensorflow]",
   "language": "python",
   "name": "conda-env-tensorflow-py"
  },
  "language_info": {
   "codemirror_mode": {
    "name": "ipython",
    "version": 3
   },
   "file_extension": ".py",
   "mimetype": "text/x-python",
   "name": "python",
   "nbconvert_exporter": "python",
   "pygments_lexer": "ipython3",
   "version": "3.6.2"
  }
 },
 "nbformat": 4,
 "nbformat_minor": 2
}
